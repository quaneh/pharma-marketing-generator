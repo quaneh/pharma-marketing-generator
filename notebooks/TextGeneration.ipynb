{
 "cells": [
  {
   "cell_type": "markdown",
   "metadata": {},
   "source": [
    "[![Open In Colab](https://colab.research.google.com/assets/colab-badge.svg)](https://colab.research.google.com/github/quaneh/pharma-marketing-generator/blob/main/notebooks/TextGeneration.ipynb) "
   ]
  },
  {
   "cell_type": "markdown",
   "metadata": {},
   "source": [
    "## Tools/Libraries\n",
    "\n",
    "First load the required tools/libraries from LangChain\n"
   ]
  },
  {
   "cell_type": "code",
   "execution_count": 1,
   "metadata": {},
   "outputs": [],
   "source": [
    "from langchain.llms import OpenAI\n",
    "from langchain.prompts import PromptTemplate\n",
    "from langchain.callbacks import get_openai_callback"
   ]
  },
  {
   "cell_type": "markdown",
   "metadata": {},
   "source": [
    "Initialise the model, providing your own OpenAI API key"
   ]
  },
  {
   "cell_type": "code",
   "execution_count": 13,
   "metadata": {},
   "outputs": [],
   "source": [
    "# get a token: https://platform.openai.com/account/api-keys\n",
    "\n",
    "from getpass import getpass\n",
    "\n",
    "OPENAI_API_KEY = getpass()\n",
    "\n",
    "# initialize the model\n",
    "model = OpenAI(model_name=\"gpt-3.5-turbo-instruct\", openai_api_key=OPENAI_API_KEY, max_tokens=1500)"
   ]
  },
  {
   "cell_type": "markdown",
   "metadata": {},
   "source": [
    "Define your prompt, placing prompt variables in curly braces."
   ]
  },
  {
   "cell_type": "code",
   "execution_count": 10,
   "metadata": {},
   "outputs": [],
   "source": [
    "template = \"\"\"\n",
    "You are an AI assistant that creates marketing materials for pharmaceutical products.\n",
    "\n",
    "Write a post for the drug {product_name}.\n",
    "The drug's active ingredient is {drug_name}.\n",
    "The drug treats the following conditions: {indications}.\n",
    "The dosing period is {dosing_period}.\n",
    "The producer is {pharma_producer}\n",
    "\n",
    "Do not mention competing brands.\n",
    "\n",
    "context:\n",
    "Semaglutide is an antidiabetic medication used for the treatment of type 2 diabetes and an anti-obesity medication used for long-term weight management.\n",
    "It is a peptide similar to the hormone glucagon-like peptide-1 (GLP-1), modified with a side chain.\n",
    "It can be administered by subcutaneous injection or taken orally. \n",
    "It is sold under the brand names Ozempic and Rybelsus for diabetes, and under the brand name Wegovy for weight loss.\n",
    "Semaglutide is a glucagon-like peptide-1 receptor agonist.The most common side effects include nausea, vomiting, diarrhea, abdominal pain, and constipation.\n",
    "It was approved for medical use in the US in 2017.[12][25] In 2021, it was the 90th most commonly prescribed medication in the United States, with more than 8 million prescriptions\n",
    "\"\"\"\n",
    "\n",
    "prompt_template = PromptTemplate(\n",
    "    template=template,\n",
    "    input_variables=['product_name', 'drug_name', 'indications', 'dosing_period', 'pharma_producer']\n",
    ")"
   ]
  },
  {
   "cell_type": "markdown",
   "metadata": {},
   "source": [
    "Set user inputs"
   ]
  },
  {
   "cell_type": "code",
   "execution_count": 4,
   "metadata": {},
   "outputs": [],
   "source": [
    "product_name = 'Ozempic'\n",
    "drug_name = 'semaglutide'\n",
    "indications = 'diabetes'\n",
    "dosing_period = 'once a week'\n",
    "pharma_producer = 'Novo Nordisk'"
   ]
  },
  {
   "cell_type": "markdown",
   "metadata": {},
   "source": [
    "Format prompt"
   ]
  },
  {
   "cell_type": "code",
   "execution_count": 11,
   "metadata": {},
   "outputs": [
    {
     "name": "stdout",
     "output_type": "stream",
     "text": [
      "\n",
      "You are an AI assistant that creates marketing materials for pharmaceutical products.\n",
      "\n",
      "Write a post for the drug Ozempic.\n",
      "The drug's active ingredient is semaglutide.\n",
      "The drug treats the following conditions: diabetes.\n",
      "The dosing period is once a week.\n",
      "The producer is Novo Nordisk\n",
      "\n",
      "Do not mention competing brands.\n",
      "\n",
      "context:\n",
      "Semaglutide is an antidiabetic medication used for the treatment of type 2 diabetes and an anti-obesity medication used for long-term weight management.\n",
      "It is a peptide similar to the hormone glucagon-like peptide-1 (GLP-1), modified with a side chain.\n",
      "It can be administered by subcutaneous injection or taken orally. \n",
      "It is sold under the brand names Ozempic and Rybelsus for diabetes, and under the brand name Wegovy for weight loss.\n",
      "Semaglutide is a glucagon-like peptide-1 receptor agonist.The most common side effects include nausea, vomiting, diarrhea, abdominal pain, and constipation.\n",
      "It was approved for medical use in the US in 2017.[12][25] In 2021, it was the 90th most commonly prescribed medication in the United States, with more than 8 million prescriptions\n",
      "\n"
     ]
    }
   ],
   "source": [
    "formatted_prompt = prompt_template.format(\n",
    "        product_name=product_name,\n",
    "        drug_name=drug_name,\n",
    "        indications=indications,\n",
    "        dosing_period=dosing_period,\n",
    "        pharma_producer=pharma_producer\n",
    "    )\n",
    "\n",
    "print(formatted_prompt)"
   ]
  },
  {
   "cell_type": "markdown",
   "metadata": {},
   "source": [
    "Make a call to the OpenAI API"
   ]
  },
  {
   "cell_type": "code",
   "execution_count": 14,
   "metadata": {},
   "outputs": [
    {
     "name": "stdout",
     "output_type": "stream",
     "text": [
      "Tokens Used: 726\n",
      "\tPrompt Tokens: 250\n",
      "\tCompletion Tokens: 476\n",
      "Successful Requests: 1\n",
      "Total Cost (USD): $0.001327\n",
      "\n",
      "Introducing Ozempic: A Revolutionary Treatment for Diabetes\n",
      "\n",
      "Living with diabetes can be a daily struggle, but with the latest advancements in medicine, managing this condition has become easier and more effective. And now, there's a new player in town that is taking the diabetes treatment market by storm - Ozempic.\n",
      "\n",
      "Developed by Novo Nordisk, Ozempic is a once-a-week injectable medication that contains the active ingredient semaglutide. This powerful drug is a glucagon-like peptide-1 (GLP-1) receptor agonist, which means it mimics the effects of the hormone GLP-1 in the body. GLP-1 helps regulate blood sugar levels and promotes weight loss, making it a game-changer for those living with diabetes.\n",
      "\n",
      "But Ozempic isn't just for diabetes. It also has been approved as an anti-obesity medication for long-term weight management under the brand name Wegovy. This dual purpose makes it a versatile and valuable treatment option for those struggling with both conditions.\n",
      "\n",
      "The dosing period of Ozempic is once a week, making it more convenient for patients compared to other daily medications. And with its subcutaneous injection method, it is easy to self-administer at home, reducing the need for frequent doctor visits.\n",
      "\n",
      "Clinical trials have shown that Ozempic is highly effective in managing blood sugar levels, leading to improved glycemic control in patients with type 2 diabetes. It has also been shown to promote weight loss and reduce the risk of cardiovascular events associated with diabetes.\n",
      "\n",
      "As with any medication, there may be side effects to consider. The most common ones reported with Ozempic include nausea, vomiting, diarrhea, abdominal pain, and constipation. However, these are usually mild and temporary, and most patients tolerate the medication well.\n",
      "\n",
      "Since its approval in 2017, Ozempic has become the 90th most commonly prescribed medication in the United States, with over 8 million prescriptions written. This is a testament to its effectiveness and the trust that healthcare professionals have in this medication.\n",
      "\n",
      "If you or a loved one is struggling with type 2 diabetes, Ozempic may be the solution you've been looking for. Talk to your doctor today to see if this medication is right for you. Take control of your diabetes and experience the life-changing benefits of Ozempic. \n"
     ]
    }
   ],
   "source": [
    "with get_openai_callback() as cb:\n",
    "    ai_response = model(formatted_prompt)\n",
    "    print(cb)\n",
    "\n",
    "\n",
    "print(ai_response)"
   ]
  },
  {
   "cell_type": "code",
   "execution_count": null,
   "metadata": {},
   "outputs": [],
   "source": []
  }
 ],
 "metadata": {
  "kernelspec": {
   "display_name": "Python 3",
   "language": "python",
   "name": "python3"
  },
  "language_info": {
   "codemirror_mode": {
    "name": "ipython",
    "version": 3
   },
   "file_extension": ".py",
   "mimetype": "text/x-python",
   "name": "python",
   "nbconvert_exporter": "python",
   "pygments_lexer": "ipython3",
   "version": "3.10.5"
  }
 },
 "nbformat": 4,
 "nbformat_minor": 2
}
