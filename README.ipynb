{
 "cells": [
  {
   "cell_type": "markdown",
   "metadata": {},
   "source": [
    "# Pharmaceutical Marketing Material Generator\n",
    "\n",
    "## Intro\n",
    "\n",
    "This tool will generate marketing materials for the pharmaceutical industry.\n",
    "It consists of a Flask backend, that will generate prompts that are sent to an LLM, and return marketing copy;\n",
    "and a Streamlit front end, that will accept user inputs and display results.\n",
    "\n",
    "The front end, and API for this project are trivial and will not be discussed in detail.\n",
    "\n",
    "The remainder of this notebook will outline the prompt and content generation process.\n",
    "\n",
    "## Tools/Libraries\n",
    "\n",
    "First load the required tools/libraries from LangChain\n"
   ]
  },
  {
   "cell_type": "code",
   "execution_count": 2,
   "metadata": {},
   "outputs": [],
   "source": [
    "from langchain.llms import OpenAI\n",
    "from langchain.prompts import PromptTemplate\n",
    "from langchain.callbacks import get_openai_callback"
   ]
  },
  {
   "cell_type": "markdown",
   "metadata": {},
   "source": [
    "Initialise the model, providing your own OpenAI API key"
   ]
  },
  {
   "cell_type": "code",
   "execution_count": 3,
   "metadata": {},
   "outputs": [],
   "source": [
    "# get a token: https://platform.openai.com/account/api-keys\n",
    "\n",
    "from getpass import getpass\n",
    "\n",
    "OPENAI_API_KEY = getpass()\n",
    "\n",
    "# initialize the model\n",
    "model = OpenAI(model_name=\"gpt-3.5-turbo-instruct\", openai_api_key=OPENAI_API_KEY)"
   ]
  },
  {
   "cell_type": "markdown",
   "metadata": {},
   "source": [
    "Define your prompt, placing prompt variables in curly braces."
   ]
  },
  {
   "cell_type": "code",
   "execution_count": 4,
   "metadata": {},
   "outputs": [],
   "source": [
    "template = \"\"\"\n",
    "You are an AI assistant that creates marketing materials for pharmaceutical products.\n",
    "\n",
    "Write an edvertisement for the drug {product_name}.\n",
    "The drug's active ingredient is {drug_name}.\n",
    "The drug treats the following conditions: {indications}.\n",
    "The dosing period is {dosing_period}.\n",
    "The producer is {pharma_producer}\n",
    "\"\"\"\n",
    "\n",
    "prompt_template = PromptTemplate(\n",
    "    template=template,\n",
    "    input_variables=['product_name', 'drug_name', 'indications', 'dosing_period', 'pharma_producer']\n",
    ")"
   ]
  },
  {
   "cell_type": "markdown",
   "metadata": {},
   "source": [
    "Set user inputs"
   ]
  },
  {
   "cell_type": "code",
   "execution_count": 5,
   "metadata": {},
   "outputs": [],
   "source": [
    "product_name = 'Ozempic'\n",
    "drug_name = 'semaglutide'\n",
    "indications = 'diabetes'\n",
    "dosing_period = 'once a week'\n",
    "pharma_producer = 'Novo Nordisk'"
   ]
  },
  {
   "cell_type": "markdown",
   "metadata": {},
   "source": [
    "Format prompt"
   ]
  },
  {
   "cell_type": "code",
   "execution_count": 7,
   "metadata": {},
   "outputs": [
    {
     "name": "stdout",
     "output_type": "stream",
     "text": [
      "\n",
      "You are an AI assistant that creates marketing materials for pharmaceutical products.\n",
      "\n",
      "Write an edvertisement for the drug Ozempic.\n",
      "The drug's active ingredient is semaglutide.\n",
      "The drug treats the following conditions: diabetes.\n",
      "The dosing period is once a week.\n",
      "The producer is Novo Nordisk\n",
      "\n"
     ]
    }
   ],
   "source": [
    "formatted_prompt = prompt_template.format(\n",
    "        product_name=product_name,\n",
    "        drug_name=drug_name,\n",
    "        indications=indications,\n",
    "        dosing_period=dosing_period,\n",
    "        pharma_producer=pharma_producer\n",
    "    )\n",
    "\n",
    "print(formatted_prompt)"
   ]
  },
  {
   "cell_type": "markdown",
   "metadata": {},
   "source": [
    "Make a call to the OpenAI API"
   ]
  },
  {
   "cell_type": "code",
   "execution_count": 12,
   "metadata": {},
   "outputs": [
    {
     "name": "stdout",
     "output_type": "stream",
     "text": [
      "Tokens Used: 231\n",
      "\tPrompt Tokens: 62\n",
      "\tCompletion Tokens: 169\n",
      "Successful Requests: 1\n",
      "Total Cost (USD): $0.000431\n",
      "\n",
      "Introducing Ozempic – the leading treatment for diabetes.\n",
      "\n",
      "Living with diabetes can be challenging, but with Ozempic, managing your condition has never been easier. The active ingredient, semaglutide, works to help regulate blood sugar levels and improve overall glucose control.\n",
      "\n",
      "With just one weekly dose, Ozempic offers convenience and consistency in your treatment plan. Say goodbye to daily injections and hello to a more manageable and hassle-free routine.\n",
      "\n",
      "Produced by Novo Nordisk, a trusted and reputable pharmaceutical company, you can trust that Ozempic is a safe and effective option for treating diabetes. Our dedication to research and development ensures that you are receiving the best possible treatment.\n",
      "\n",
      "Don't let diabetes control your life. Take control with Ozempic. Ask your doctor about Ozempic today and start living your best life. \n"
     ]
    }
   ],
   "source": [
    "with get_openai_callback() as cb:\n",
    "    ai_response = model(formatted_prompt)\n",
    "    print(cb)\n",
    "\n",
    "\n",
    "print(ai_response)"
   ]
  },
  {
   "cell_type": "code",
   "execution_count": null,
   "metadata": {},
   "outputs": [],
   "source": []
  }
 ],
 "metadata": {
  "kernelspec": {
   "display_name": "Python 3",
   "language": "python",
   "name": "python3"
  },
  "language_info": {
   "codemirror_mode": {
    "name": "ipython",
    "version": 3
   },
   "file_extension": ".py",
   "mimetype": "text/x-python",
   "name": "python",
   "nbconvert_exporter": "python",
   "pygments_lexer": "ipython3",
   "version": "3.10.5"
  }
 },
 "nbformat": 4,
 "nbformat_minor": 2
}
